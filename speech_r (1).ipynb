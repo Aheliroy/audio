{
  "nbformat": 4,
  "nbformat_minor": 0,
  "metadata": {
    "colab": {
      "provenance": []
    },
    "kernelspec": {
      "name": "python3",
      "display_name": "Python 3"
    },
    "language_info": {
      "name": "python"
    }
  },
  "cells": [
    {
      "cell_type": "code",
      "execution_count": 1,
      "metadata": {
        "colab": {
          "base_uri": "https://localhost:8080/"
        },
        "id": "RY25wUHSjdGT",
        "outputId": "01a5de1f-a0d4-49d9-dd7d-e3b42a9ab85f"
      },
      "outputs": [
        {
          "output_type": "stream",
          "name": "stdout",
          "text": [
            "Collecting SpeechRecognition\n",
            "  Downloading SpeechRecognition-3.10.0-py2.py3-none-any.whl (32.8 MB)\n",
            "\u001b[2K     \u001b[90m━━━━━━━━━━━━━━━━━━━━━━━━━━━━━━━━━━━━━━━━\u001b[0m \u001b[32m32.8/32.8 MB\u001b[0m \u001b[31m19.7 MB/s\u001b[0m eta \u001b[36m0:00:00\u001b[0m\n",
            "\u001b[?25hRequirement already satisfied: requests>=2.26.0 in /usr/local/lib/python3.10/dist-packages (from SpeechRecognition) (2.31.0)\n",
            "Requirement already satisfied: charset-normalizer<4,>=2 in /usr/local/lib/python3.10/dist-packages (from requests>=2.26.0->SpeechRecognition) (3.2.0)\n",
            "Requirement already satisfied: idna<4,>=2.5 in /usr/local/lib/python3.10/dist-packages (from requests>=2.26.0->SpeechRecognition) (3.4)\n",
            "Requirement already satisfied: urllib3<3,>=1.21.1 in /usr/local/lib/python3.10/dist-packages (from requests>=2.26.0->SpeechRecognition) (2.0.5)\n",
            "Requirement already satisfied: certifi>=2017.4.17 in /usr/local/lib/python3.10/dist-packages (from requests>=2.26.0->SpeechRecognition) (2023.7.22)\n",
            "Installing collected packages: SpeechRecognition\n",
            "Successfully installed SpeechRecognition-3.10.0\n"
          ]
        }
      ],
      "source": [
        "!pip install SpeechRecognition"
      ]
    },
    {
      "cell_type": "code",
      "source": [
        "import speech_recognition as sr"
      ],
      "metadata": {
        "id": "FoWE0xCvjg4n"
      },
      "execution_count": 2,
      "outputs": []
    },
    {
      "cell_type": "code",
      "source": [
        "r = sr.Recognizer()\n",
        "\n",
        "def speech_to_text(audio_file):\n",
        "  \"\"\"\n",
        "  Opens and listens to an audio file and translates it to text\n",
        "  Args: audio file\n",
        "  Returns: text of transcribed audio file\n",
        "  \"\"\"\n",
        "  text=\"\"\n",
        "  print('Converting audio transcripts into text. Please wait ...')\n",
        "  with sr.AudioFile(audio_file) as source:\n",
        "    audio_text = r.listen(source)\n",
        "    try:\n",
        "        text = r.recognize_google(audio_text)\n",
        "    except:\n",
        "         print('Sorry.. run again...')\n",
        "\n",
        "    return text\n",
        "\n",
        "male_path = \"./audio/male.wav\"\n",
        "female_path = \"./audio/female.wav\"\n",
        "male = speech_to_text(male_path)\n",
        "print (male)\n",
        "print(\"\\n\")\n",
        "female = speech_to_text(female_path)\n",
        "print (female)"
      ],
      "metadata": {
        "colab": {
          "base_uri": "https://localhost:8080/"
        },
        "id": "ZYw-XAvVjtWj",
        "outputId": "b3acee40-e82e-4efd-ea51-39b00d1f9358"
      },
      "execution_count": 4,
      "outputs": [
        {
          "output_type": "stream",
          "name": "stdout",
          "text": [
            "Converting audio transcripts into text. Please wait ...\n",
            "but what if somebody decides to break it be careful that you keep adequate coverage but look for places to save money maybe it's taking longer to get things squared away then the bankers expected hiring the wife for once company may win her tax aided retirement income the Boost is helpful but inadequate new self-deceiving Rags or hersley tossed on the two naked bones what a discussion Canyon Sue when the title of this type of song is in question there's no dying or waxing or gassing needed paperweight maybe personalized on back while his leather hard place work on a flat surface and smooth out the simplest kind of system uses a single self-contained unit the old shop added still holds a good mechanic is usually a bad boss both figures some make beautiful chairs cabinets doll houses at\n",
            "\n",
            "\n",
            "Converting audio transcripts into text. Please wait ...\n",
            "perhaps this is what gives the aborigine his odd air of dignity turbulent Tides Rose as much as 50 ft in the choreographer must arbitrate he did not however settle back into acquiescence with things as they were he finds it in utter misery and desolation ironically enough in this instance such personal virtues were a luxury two other cases also were under advisement say he is a horse thief runs an old adage he may have a point in that second theme and fewer prizes the straight line with symbolize its uniqueness the circle of universe with Clay it has multiple implications and possible headaches for your marketing program no manufacturer has taken the initiative and pointing out the cost crickets\n"
          ]
        }
      ]
    }
  ]
}